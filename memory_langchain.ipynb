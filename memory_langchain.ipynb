{
  "nbformat": 4,
  "nbformat_minor": 0,
  "metadata": {
    "colab": {
      "provenance": [],
      "authorship_tag": "ABX9TyNH9a8CjnpD0rv1t7eWpppM",
      "include_colab_link": true
    },
    "kernelspec": {
      "name": "python3",
      "display_name": "Python 3"
    },
    "language_info": {
      "name": "python"
    }
  },
  "cells": [
    {
      "cell_type": "markdown",
      "metadata": {
        "id": "view-in-github",
        "colab_type": "text"
      },
      "source": [
        "<a href=\"https://colab.research.google.com/github/Shaifali07/LLM_Application_Practice/blob/main/memory_langchain.ipynb\" target=\"_parent\"><img src=\"https://colab.research.google.com/assets/colab-badge.svg\" alt=\"Open In Colab\"/></a>"
      ]
    },
    {
      "cell_type": "code",
      "execution_count": 1,
      "metadata": {
        "colab": {
          "base_uri": "https://localhost:8080/"
        },
        "id": "aVUpY-B4vzEu",
        "outputId": "bd602095-5f28-462c-cec4-ef8f4a351e29"
      },
      "outputs": [
        {
          "output_type": "stream",
          "name": "stdout",
          "text": [
            "Requirement already satisfied: langchain in /usr/local/lib/python3.11/dist-packages (0.3.16)\n",
            "Requirement already satisfied: PyYAML>=5.3 in /usr/local/lib/python3.11/dist-packages (from langchain) (6.0.2)\n",
            "Requirement already satisfied: SQLAlchemy<3,>=1.4 in /usr/local/lib/python3.11/dist-packages (from langchain) (2.0.37)\n",
            "Requirement already satisfied: aiohttp<4.0.0,>=3.8.3 in /usr/local/lib/python3.11/dist-packages (from langchain) (3.11.11)\n",
            "Requirement already satisfied: langchain-core<0.4.0,>=0.3.32 in /usr/local/lib/python3.11/dist-packages (from langchain) (0.3.32)\n",
            "Requirement already satisfied: langchain-text-splitters<0.4.0,>=0.3.3 in /usr/local/lib/python3.11/dist-packages (from langchain) (0.3.5)\n",
            "Requirement already satisfied: langsmith<0.4,>=0.1.17 in /usr/local/lib/python3.11/dist-packages (from langchain) (0.3.2)\n",
            "Requirement already satisfied: numpy<2,>=1.22.4 in /usr/local/lib/python3.11/dist-packages (from langchain) (1.26.4)\n",
            "Requirement already satisfied: pydantic<3.0.0,>=2.7.4 in /usr/local/lib/python3.11/dist-packages (from langchain) (2.10.6)\n",
            "Requirement already satisfied: requests<3,>=2 in /usr/local/lib/python3.11/dist-packages (from langchain) (2.32.3)\n",
            "Requirement already satisfied: tenacity!=8.4.0,<10,>=8.1.0 in /usr/local/lib/python3.11/dist-packages (from langchain) (9.0.0)\n",
            "Requirement already satisfied: aiohappyeyeballs>=2.3.0 in /usr/local/lib/python3.11/dist-packages (from aiohttp<4.0.0,>=3.8.3->langchain) (2.4.4)\n",
            "Requirement already satisfied: aiosignal>=1.1.2 in /usr/local/lib/python3.11/dist-packages (from aiohttp<4.0.0,>=3.8.3->langchain) (1.3.2)\n",
            "Requirement already satisfied: attrs>=17.3.0 in /usr/local/lib/python3.11/dist-packages (from aiohttp<4.0.0,>=3.8.3->langchain) (25.1.0)\n",
            "Requirement already satisfied: frozenlist>=1.1.1 in /usr/local/lib/python3.11/dist-packages (from aiohttp<4.0.0,>=3.8.3->langchain) (1.5.0)\n",
            "Requirement already satisfied: multidict<7.0,>=4.5 in /usr/local/lib/python3.11/dist-packages (from aiohttp<4.0.0,>=3.8.3->langchain) (6.1.0)\n",
            "Requirement already satisfied: propcache>=0.2.0 in /usr/local/lib/python3.11/dist-packages (from aiohttp<4.0.0,>=3.8.3->langchain) (0.2.1)\n",
            "Requirement already satisfied: yarl<2.0,>=1.17.0 in /usr/local/lib/python3.11/dist-packages (from aiohttp<4.0.0,>=3.8.3->langchain) (1.18.3)\n",
            "Requirement already satisfied: jsonpatch<2.0,>=1.33 in /usr/local/lib/python3.11/dist-packages (from langchain-core<0.4.0,>=0.3.32->langchain) (1.33)\n",
            "Requirement already satisfied: packaging<25,>=23.2 in /usr/local/lib/python3.11/dist-packages (from langchain-core<0.4.0,>=0.3.32->langchain) (24.2)\n",
            "Requirement already satisfied: typing-extensions>=4.7 in /usr/local/lib/python3.11/dist-packages (from langchain-core<0.4.0,>=0.3.32->langchain) (4.12.2)\n",
            "Requirement already satisfied: httpx<1,>=0.23.0 in /usr/local/lib/python3.11/dist-packages (from langsmith<0.4,>=0.1.17->langchain) (0.28.1)\n",
            "Requirement already satisfied: orjson<4.0.0,>=3.9.14 in /usr/local/lib/python3.11/dist-packages (from langsmith<0.4,>=0.1.17->langchain) (3.10.15)\n",
            "Requirement already satisfied: requests-toolbelt<2.0.0,>=1.0.0 in /usr/local/lib/python3.11/dist-packages (from langsmith<0.4,>=0.1.17->langchain) (1.0.0)\n",
            "Requirement already satisfied: zstandard<0.24.0,>=0.23.0 in /usr/local/lib/python3.11/dist-packages (from langsmith<0.4,>=0.1.17->langchain) (0.23.0)\n",
            "Requirement already satisfied: annotated-types>=0.6.0 in /usr/local/lib/python3.11/dist-packages (from pydantic<3.0.0,>=2.7.4->langchain) (0.7.0)\n",
            "Requirement already satisfied: pydantic-core==2.27.2 in /usr/local/lib/python3.11/dist-packages (from pydantic<3.0.0,>=2.7.4->langchain) (2.27.2)\n",
            "Requirement already satisfied: charset-normalizer<4,>=2 in /usr/local/lib/python3.11/dist-packages (from requests<3,>=2->langchain) (3.4.1)\n",
            "Requirement already satisfied: idna<4,>=2.5 in /usr/local/lib/python3.11/dist-packages (from requests<3,>=2->langchain) (3.10)\n",
            "Requirement already satisfied: urllib3<3,>=1.21.1 in /usr/local/lib/python3.11/dist-packages (from requests<3,>=2->langchain) (2.3.0)\n",
            "Requirement already satisfied: certifi>=2017.4.17 in /usr/local/lib/python3.11/dist-packages (from requests<3,>=2->langchain) (2024.12.14)\n",
            "Requirement already satisfied: greenlet!=0.4.17 in /usr/local/lib/python3.11/dist-packages (from SQLAlchemy<3,>=1.4->langchain) (3.1.1)\n",
            "Requirement already satisfied: anyio in /usr/local/lib/python3.11/dist-packages (from httpx<1,>=0.23.0->langsmith<0.4,>=0.1.17->langchain) (3.7.1)\n",
            "Requirement already satisfied: httpcore==1.* in /usr/local/lib/python3.11/dist-packages (from httpx<1,>=0.23.0->langsmith<0.4,>=0.1.17->langchain) (1.0.7)\n",
            "Requirement already satisfied: h11<0.15,>=0.13 in /usr/local/lib/python3.11/dist-packages (from httpcore==1.*->httpx<1,>=0.23.0->langsmith<0.4,>=0.1.17->langchain) (0.14.0)\n",
            "Requirement already satisfied: jsonpointer>=1.9 in /usr/local/lib/python3.11/dist-packages (from jsonpatch<2.0,>=1.33->langchain-core<0.4.0,>=0.3.32->langchain) (3.0.0)\n",
            "Requirement already satisfied: sniffio>=1.1 in /usr/local/lib/python3.11/dist-packages (from anyio->httpx<1,>=0.23.0->langsmith<0.4,>=0.1.17->langchain) (1.3.1)\n",
            "Requirement already satisfied: langchain_core in /usr/local/lib/python3.11/dist-packages (0.3.32)\n",
            "Requirement already satisfied: PyYAML>=5.3 in /usr/local/lib/python3.11/dist-packages (from langchain_core) (6.0.2)\n",
            "Requirement already satisfied: jsonpatch<2.0,>=1.33 in /usr/local/lib/python3.11/dist-packages (from langchain_core) (1.33)\n",
            "Requirement already satisfied: langsmith<0.4,>=0.1.125 in /usr/local/lib/python3.11/dist-packages (from langchain_core) (0.3.2)\n",
            "Requirement already satisfied: packaging<25,>=23.2 in /usr/local/lib/python3.11/dist-packages (from langchain_core) (24.2)\n",
            "Requirement already satisfied: pydantic<3.0.0,>=2.5.2 in /usr/local/lib/python3.11/dist-packages (from langchain_core) (2.10.6)\n",
            "Requirement already satisfied: tenacity!=8.4.0,<10.0.0,>=8.1.0 in /usr/local/lib/python3.11/dist-packages (from langchain_core) (9.0.0)\n",
            "Requirement already satisfied: typing-extensions>=4.7 in /usr/local/lib/python3.11/dist-packages (from langchain_core) (4.12.2)\n",
            "Requirement already satisfied: jsonpointer>=1.9 in /usr/local/lib/python3.11/dist-packages (from jsonpatch<2.0,>=1.33->langchain_core) (3.0.0)\n",
            "Requirement already satisfied: httpx<1,>=0.23.0 in /usr/local/lib/python3.11/dist-packages (from langsmith<0.4,>=0.1.125->langchain_core) (0.28.1)\n",
            "Requirement already satisfied: orjson<4.0.0,>=3.9.14 in /usr/local/lib/python3.11/dist-packages (from langsmith<0.4,>=0.1.125->langchain_core) (3.10.15)\n",
            "Requirement already satisfied: requests<3,>=2 in /usr/local/lib/python3.11/dist-packages (from langsmith<0.4,>=0.1.125->langchain_core) (2.32.3)\n",
            "Requirement already satisfied: requests-toolbelt<2.0.0,>=1.0.0 in /usr/local/lib/python3.11/dist-packages (from langsmith<0.4,>=0.1.125->langchain_core) (1.0.0)\n",
            "Requirement already satisfied: zstandard<0.24.0,>=0.23.0 in /usr/local/lib/python3.11/dist-packages (from langsmith<0.4,>=0.1.125->langchain_core) (0.23.0)\n",
            "Requirement already satisfied: annotated-types>=0.6.0 in /usr/local/lib/python3.11/dist-packages (from pydantic<3.0.0,>=2.5.2->langchain_core) (0.7.0)\n",
            "Requirement already satisfied: pydantic-core==2.27.2 in /usr/local/lib/python3.11/dist-packages (from pydantic<3.0.0,>=2.5.2->langchain_core) (2.27.2)\n",
            "Requirement already satisfied: anyio in /usr/local/lib/python3.11/dist-packages (from httpx<1,>=0.23.0->langsmith<0.4,>=0.1.125->langchain_core) (3.7.1)\n",
            "Requirement already satisfied: certifi in /usr/local/lib/python3.11/dist-packages (from httpx<1,>=0.23.0->langsmith<0.4,>=0.1.125->langchain_core) (2024.12.14)\n",
            "Requirement already satisfied: httpcore==1.* in /usr/local/lib/python3.11/dist-packages (from httpx<1,>=0.23.0->langsmith<0.4,>=0.1.125->langchain_core) (1.0.7)\n",
            "Requirement already satisfied: idna in /usr/local/lib/python3.11/dist-packages (from httpx<1,>=0.23.0->langsmith<0.4,>=0.1.125->langchain_core) (3.10)\n",
            "Requirement already satisfied: h11<0.15,>=0.13 in /usr/local/lib/python3.11/dist-packages (from httpcore==1.*->httpx<1,>=0.23.0->langsmith<0.4,>=0.1.125->langchain_core) (0.14.0)\n",
            "Requirement already satisfied: charset-normalizer<4,>=2 in /usr/local/lib/python3.11/dist-packages (from requests<3,>=2->langsmith<0.4,>=0.1.125->langchain_core) (3.4.1)\n",
            "Requirement already satisfied: urllib3<3,>=1.21.1 in /usr/local/lib/python3.11/dist-packages (from requests<3,>=2->langsmith<0.4,>=0.1.125->langchain_core) (2.3.0)\n",
            "Requirement already satisfied: sniffio>=1.1 in /usr/local/lib/python3.11/dist-packages (from anyio->httpx<1,>=0.23.0->langsmith<0.4,>=0.1.125->langchain_core) (1.3.1)\n",
            "Collecting groq\n",
            "  Downloading groq-0.16.0-py3-none-any.whl.metadata (14 kB)\n",
            "Requirement already satisfied: anyio<5,>=3.5.0 in /usr/local/lib/python3.11/dist-packages (from groq) (3.7.1)\n",
            "Requirement already satisfied: distro<2,>=1.7.0 in /usr/local/lib/python3.11/dist-packages (from groq) (1.9.0)\n",
            "Requirement already satisfied: httpx<1,>=0.23.0 in /usr/local/lib/python3.11/dist-packages (from groq) (0.28.1)\n",
            "Requirement already satisfied: pydantic<3,>=1.9.0 in /usr/local/lib/python3.11/dist-packages (from groq) (2.10.6)\n",
            "Requirement already satisfied: sniffio in /usr/local/lib/python3.11/dist-packages (from groq) (1.3.1)\n",
            "Requirement already satisfied: typing-extensions<5,>=4.10 in /usr/local/lib/python3.11/dist-packages (from groq) (4.12.2)\n",
            "Requirement already satisfied: idna>=2.8 in /usr/local/lib/python3.11/dist-packages (from anyio<5,>=3.5.0->groq) (3.10)\n",
            "Requirement already satisfied: certifi in /usr/local/lib/python3.11/dist-packages (from httpx<1,>=0.23.0->groq) (2024.12.14)\n",
            "Requirement already satisfied: httpcore==1.* in /usr/local/lib/python3.11/dist-packages (from httpx<1,>=0.23.0->groq) (1.0.7)\n",
            "Requirement already satisfied: h11<0.15,>=0.13 in /usr/local/lib/python3.11/dist-packages (from httpcore==1.*->httpx<1,>=0.23.0->groq) (0.14.0)\n",
            "Requirement already satisfied: annotated-types>=0.6.0 in /usr/local/lib/python3.11/dist-packages (from pydantic<3,>=1.9.0->groq) (0.7.0)\n",
            "Requirement already satisfied: pydantic-core==2.27.2 in /usr/local/lib/python3.11/dist-packages (from pydantic<3,>=1.9.0->groq) (2.27.2)\n",
            "Downloading groq-0.16.0-py3-none-any.whl (109 kB)\n",
            "\u001b[2K   \u001b[90m━━━━━━━━━━━━━━━━━━━━━━━━━━━━━━━━━━━━━━━━\u001b[0m \u001b[32m109.7/109.7 kB\u001b[0m \u001b[31m9.3 MB/s\u001b[0m eta \u001b[36m0:00:00\u001b[0m\n",
            "\u001b[?25hInstalling collected packages: groq\n",
            "Successfully installed groq-0.16.0\n",
            "Collecting langchain_groq\n",
            "  Downloading langchain_groq-0.2.4-py3-none-any.whl.metadata (3.0 kB)\n",
            "Requirement already satisfied: groq<1,>=0.4.1 in /usr/local/lib/python3.11/dist-packages (from langchain_groq) (0.16.0)\n",
            "Collecting langchain-core<0.4.0,>=0.3.33 (from langchain_groq)\n",
            "  Downloading langchain_core-0.3.33-py3-none-any.whl.metadata (6.3 kB)\n",
            "Requirement already satisfied: anyio<5,>=3.5.0 in /usr/local/lib/python3.11/dist-packages (from groq<1,>=0.4.1->langchain_groq) (3.7.1)\n",
            "Requirement already satisfied: distro<2,>=1.7.0 in /usr/local/lib/python3.11/dist-packages (from groq<1,>=0.4.1->langchain_groq) (1.9.0)\n",
            "Requirement already satisfied: httpx<1,>=0.23.0 in /usr/local/lib/python3.11/dist-packages (from groq<1,>=0.4.1->langchain_groq) (0.28.1)\n",
            "Requirement already satisfied: pydantic<3,>=1.9.0 in /usr/local/lib/python3.11/dist-packages (from groq<1,>=0.4.1->langchain_groq) (2.10.6)\n",
            "Requirement already satisfied: sniffio in /usr/local/lib/python3.11/dist-packages (from groq<1,>=0.4.1->langchain_groq) (1.3.1)\n",
            "Requirement already satisfied: typing-extensions<5,>=4.10 in /usr/local/lib/python3.11/dist-packages (from groq<1,>=0.4.1->langchain_groq) (4.12.2)\n",
            "Requirement already satisfied: PyYAML>=5.3 in /usr/local/lib/python3.11/dist-packages (from langchain-core<0.4.0,>=0.3.33->langchain_groq) (6.0.2)\n",
            "Requirement already satisfied: jsonpatch<2.0,>=1.33 in /usr/local/lib/python3.11/dist-packages (from langchain-core<0.4.0,>=0.3.33->langchain_groq) (1.33)\n",
            "Requirement already satisfied: langsmith<0.4,>=0.1.125 in /usr/local/lib/python3.11/dist-packages (from langchain-core<0.4.0,>=0.3.33->langchain_groq) (0.3.2)\n",
            "Requirement already satisfied: packaging<25,>=23.2 in /usr/local/lib/python3.11/dist-packages (from langchain-core<0.4.0,>=0.3.33->langchain_groq) (24.2)\n",
            "Requirement already satisfied: tenacity!=8.4.0,<10.0.0,>=8.1.0 in /usr/local/lib/python3.11/dist-packages (from langchain-core<0.4.0,>=0.3.33->langchain_groq) (9.0.0)\n",
            "Requirement already satisfied: idna>=2.8 in /usr/local/lib/python3.11/dist-packages (from anyio<5,>=3.5.0->groq<1,>=0.4.1->langchain_groq) (3.10)\n",
            "Requirement already satisfied: certifi in /usr/local/lib/python3.11/dist-packages (from httpx<1,>=0.23.0->groq<1,>=0.4.1->langchain_groq) (2024.12.14)\n",
            "Requirement already satisfied: httpcore==1.* in /usr/local/lib/python3.11/dist-packages (from httpx<1,>=0.23.0->groq<1,>=0.4.1->langchain_groq) (1.0.7)\n",
            "Requirement already satisfied: h11<0.15,>=0.13 in /usr/local/lib/python3.11/dist-packages (from httpcore==1.*->httpx<1,>=0.23.0->groq<1,>=0.4.1->langchain_groq) (0.14.0)\n",
            "Requirement already satisfied: jsonpointer>=1.9 in /usr/local/lib/python3.11/dist-packages (from jsonpatch<2.0,>=1.33->langchain-core<0.4.0,>=0.3.33->langchain_groq) (3.0.0)\n",
            "Requirement already satisfied: orjson<4.0.0,>=3.9.14 in /usr/local/lib/python3.11/dist-packages (from langsmith<0.4,>=0.1.125->langchain-core<0.4.0,>=0.3.33->langchain_groq) (3.10.15)\n",
            "Requirement already satisfied: requests<3,>=2 in /usr/local/lib/python3.11/dist-packages (from langsmith<0.4,>=0.1.125->langchain-core<0.4.0,>=0.3.33->langchain_groq) (2.32.3)\n",
            "Requirement already satisfied: requests-toolbelt<2.0.0,>=1.0.0 in /usr/local/lib/python3.11/dist-packages (from langsmith<0.4,>=0.1.125->langchain-core<0.4.0,>=0.3.33->langchain_groq) (1.0.0)\n",
            "Requirement already satisfied: zstandard<0.24.0,>=0.23.0 in /usr/local/lib/python3.11/dist-packages (from langsmith<0.4,>=0.1.125->langchain-core<0.4.0,>=0.3.33->langchain_groq) (0.23.0)\n",
            "Requirement already satisfied: annotated-types>=0.6.0 in /usr/local/lib/python3.11/dist-packages (from pydantic<3,>=1.9.0->groq<1,>=0.4.1->langchain_groq) (0.7.0)\n",
            "Requirement already satisfied: pydantic-core==2.27.2 in /usr/local/lib/python3.11/dist-packages (from pydantic<3,>=1.9.0->groq<1,>=0.4.1->langchain_groq) (2.27.2)\n",
            "Requirement already satisfied: charset-normalizer<4,>=2 in /usr/local/lib/python3.11/dist-packages (from requests<3,>=2->langsmith<0.4,>=0.1.125->langchain-core<0.4.0,>=0.3.33->langchain_groq) (3.4.1)\n",
            "Requirement already satisfied: urllib3<3,>=1.21.1 in /usr/local/lib/python3.11/dist-packages (from requests<3,>=2->langsmith<0.4,>=0.1.125->langchain-core<0.4.0,>=0.3.33->langchain_groq) (2.3.0)\n",
            "Downloading langchain_groq-0.2.4-py3-none-any.whl (14 kB)\n",
            "Downloading langchain_core-0.3.33-py3-none-any.whl (412 kB)\n",
            "\u001b[2K   \u001b[90m━━━━━━━━━━━━━━━━━━━━━━━━━━━━━━━━━━━━━━━━\u001b[0m \u001b[32m412.7/412.7 kB\u001b[0m \u001b[31m24.0 MB/s\u001b[0m eta \u001b[36m0:00:00\u001b[0m\n",
            "\u001b[?25hInstalling collected packages: langchain-core, langchain_groq\n",
            "  Attempting uninstall: langchain-core\n",
            "    Found existing installation: langchain-core 0.3.32\n",
            "    Uninstalling langchain-core-0.3.32:\n",
            "      Successfully uninstalled langchain-core-0.3.32\n",
            "Successfully installed langchain-core-0.3.33 langchain_groq-0.2.4\n"
          ]
        }
      ],
      "source": [
        "!pip install langchain\n",
        "!pip install langchain_core\n",
        "!pip install groq\n",
        "!pip install langchain_groq"
      ]
    },
    {
      "cell_type": "code",
      "source": [
        "from my_key import grq_key\n",
        "import os\n",
        "os.environ[\"GROQ_API_KEY\"]=grq_key"
      ],
      "metadata": {
        "id": "JDNNbDlpwNeX"
      },
      "execution_count": 4,
      "outputs": []
    },
    {
      "cell_type": "code",
      "source": [
        "from langchain import PromptTemplate\n",
        "from langchain.chains import LLMChain\n",
        "from langchain_groq import ChatGroq\n",
        "from langchain.memory import ConversationBufferMemory"
      ],
      "metadata": {
        "id": "kTUt0WNLwnWm"
      },
      "execution_count": 5,
      "outputs": []
    },
    {
      "cell_type": "code",
      "source": [
        "llm=ChatGroq(\n",
        "    model_name=\"gemma2-9b-it\",\n",
        "    temperature=0\n",
        ")\n",
        "prompt=PromptTemplate(\n",
        "    input_variables=[\"history\",\"question\"],\n",
        "    template=\"you are ai assitant and you need to answer the {question} considering {history}\"\n",
        "\n",
        ")\n",
        "memory=ConversationBufferMemory()\n",
        "chain=LLMChain(\n",
        "    llm=llm,\n",
        "    prompt=prompt,\n",
        "    verbose=True,\n",
        "    memory=memory\n",
        ")\n",
        "chain.invoke({\"question\":\"what is computer science?\"})"
      ],
      "metadata": {
        "colab": {
          "base_uri": "https://localhost:8080/"
        },
        "id": "GyfJrTH2xDJ-",
        "outputId": "73020f77-6ab2-49eb-f70c-e5d0ba41b14a"
      },
      "execution_count": 6,
      "outputs": [
        {
          "output_type": "stream",
          "name": "stderr",
          "text": [
            "<ipython-input-6-4477a437bff6>:10: LangChainDeprecationWarning: Please see the migration guide at: https://python.langchain.com/docs/versions/migrating_memory/\n",
            "  memory=ConversationBufferMemory()\n",
            "<ipython-input-6-4477a437bff6>:11: LangChainDeprecationWarning: The class `LLMChain` was deprecated in LangChain 0.1.17 and will be removed in 1.0. Use :meth:`~RunnableSequence, e.g., `prompt | llm`` instead.\n",
            "  chain=LLMChain(\n"
          ]
        },
        {
          "output_type": "stream",
          "name": "stdout",
          "text": [
            "\n",
            "\n",
            "\u001b[1m> Entering new LLMChain chain...\u001b[0m\n",
            "Prompt after formatting:\n",
            "\u001b[32;1m\u001b[1;3myou are ai assitant and you need to answer the what is computer science? considering \u001b[0m\n",
            "\n",
            "\u001b[1m> Finished chain.\u001b[0m\n"
          ]
        },
        {
          "output_type": "execute_result",
          "data": {
            "text/plain": [
              "{'question': 'what is computer science?',\n",
              " 'history': '',\n",
              " 'text': \"Let's break down what computer science is, keeping in mind that I'm an AI assistant built with the principles of computer science!\\n\\n**At its core, computer science is the study of computation.**  \\n\\nThink of it like this:\\n\\n* **Math for Computers:**  Computer science uses mathematical concepts to design and analyze algorithms, the step-by-step instructions that computers follow. \\n* **Building the Brains:** It's about understanding how computers think, process information, and solve problems. This involves things like programming languages, data structures, and software design.\\n* **Beyond the Code:** Computer science isn't just about writing code. It also explores the theoretical foundations of computing, like how information is represented and processed, and the limits of what computers can and cannot do.\\n\\n**Here are some key areas within computer science:**\\n\\n* **Programming:**  Creating instructions for computers to follow, using languages like Python, Java, or C++.\\n* **Algorithms and Data Structures:**  Developing efficient ways to organize and process data, like sorting lists or searching for information.\\n* **Artificial Intelligence (AI):**  Building systems that can learn from data and perform tasks that typically require human intelligence, like image recognition or natural language processing (like me!).\\n* **Computer Networks:**  Understanding how computers communicate with each other, from local networks to the vast internet.\\n* **Cybersecurity:**  Protecting computer systems and data from unauthorized access and attacks.\\n\\n**Why is computer science important?**\\n\\n* **Technology Drives the World:**  Computers are everywhere, from smartphones to cars to medical devices. Understanding computer science is essential for navigating and shaping our increasingly digital world.\\n* **Problem-Solving Power:**  The skills learned in computer science, like logical thinking and problem-solving, are valuable in many fields.\\n* **Innovation and Creativity:**  Computer science empowers us to create new technologies, solve complex problems, and push the boundaries of what's possible.\\n\\n\\nLet me know if you have any other questions about computer science!\\n\"}"
            ]
          },
          "metadata": {},
          "execution_count": 6
        }
      ]
    },
    {
      "cell_type": "code",
      "source": [
        "chain.invoke(\"List the industries in this field\")"
      ],
      "metadata": {
        "colab": {
          "base_uri": "https://localhost:8080/"
        },
        "id": "ceBjF2Cwx092",
        "outputId": "35539978-d54d-48e3-924c-3cfdf6eb3f69"
      },
      "execution_count": 7,
      "outputs": [
        {
          "output_type": "stream",
          "name": "stdout",
          "text": [
            "\n",
            "\n",
            "\u001b[1m> Entering new LLMChain chain...\u001b[0m\n",
            "Prompt after formatting:\n",
            "\u001b[32;1m\u001b[1;3myou are ai assitant and you need to answer the List the industries in this field considering Human: what is computer science?\n",
            "AI: Let's break down what computer science is, keeping in mind that I'm an AI assistant built with the principles of computer science!\n",
            "\n",
            "**At its core, computer science is the study of computation.**  \n",
            "\n",
            "Think of it like this:\n",
            "\n",
            "* **Math for Computers:**  Computer science uses mathematical concepts to design and analyze algorithms, the step-by-step instructions that computers follow. \n",
            "* **Building the Brains:** It's about understanding how computers think, process information, and solve problems. This involves things like programming languages, data structures, and software design.\n",
            "* **Beyond the Code:** Computer science isn't just about writing code. It also explores the theoretical foundations of computing, like how information is represented and processed, and the limits of what computers can and cannot do.\n",
            "\n",
            "**Here are some key areas within computer science:**\n",
            "\n",
            "* **Programming:**  Creating instructions for computers to follow, using languages like Python, Java, or C++.\n",
            "* **Algorithms and Data Structures:**  Developing efficient ways to organize and process data, like sorting lists or searching for information.\n",
            "* **Artificial Intelligence (AI):**  Building systems that can learn from data and perform tasks that typically require human intelligence, like image recognition or natural language processing (like me!).\n",
            "* **Computer Networks:**  Understanding how computers communicate with each other, from local networks to the vast internet.\n",
            "* **Cybersecurity:**  Protecting computer systems and data from unauthorized access and attacks.\n",
            "\n",
            "**Why is computer science important?**\n",
            "\n",
            "* **Technology Drives the World:**  Computers are everywhere, from smartphones to cars to medical devices. Understanding computer science is essential for navigating and shaping our increasingly digital world.\n",
            "* **Problem-Solving Power:**  The skills learned in computer science, like logical thinking and problem-solving, are valuable in many fields.\n",
            "* **Innovation and Creativity:**  Computer science empowers us to create new technologies, solve complex problems, and push the boundaries of what's possible.\n",
            "\n",
            "\n",
            "Let me know if you have any other questions about computer science!\n",
            "\u001b[0m\n",
            "\n",
            "\u001b[1m> Finished chain.\u001b[0m\n"
          ]
        },
        {
          "output_type": "execute_result",
          "data": {
            "text/plain": [
              "{'question': 'List the industries in this field',\n",
              " 'history': \"Human: what is computer science?\\nAI: Let's break down what computer science is, keeping in mind that I'm an AI assistant built with the principles of computer science!\\n\\n**At its core, computer science is the study of computation.**  \\n\\nThink of it like this:\\n\\n* **Math for Computers:**  Computer science uses mathematical concepts to design and analyze algorithms, the step-by-step instructions that computers follow. \\n* **Building the Brains:** It's about understanding how computers think, process information, and solve problems. This involves things like programming languages, data structures, and software design.\\n* **Beyond the Code:** Computer science isn't just about writing code. It also explores the theoretical foundations of computing, like how information is represented and processed, and the limits of what computers can and cannot do.\\n\\n**Here are some key areas within computer science:**\\n\\n* **Programming:**  Creating instructions for computers to follow, using languages like Python, Java, or C++.\\n* **Algorithms and Data Structures:**  Developing efficient ways to organize and process data, like sorting lists or searching for information.\\n* **Artificial Intelligence (AI):**  Building systems that can learn from data and perform tasks that typically require human intelligence, like image recognition or natural language processing (like me!).\\n* **Computer Networks:**  Understanding how computers communicate with each other, from local networks to the vast internet.\\n* **Cybersecurity:**  Protecting computer systems and data from unauthorized access and attacks.\\n\\n**Why is computer science important?**\\n\\n* **Technology Drives the World:**  Computers are everywhere, from smartphones to cars to medical devices. Understanding computer science is essential for navigating and shaping our increasingly digital world.\\n* **Problem-Solving Power:**  The skills learned in computer science, like logical thinking and problem-solving, are valuable in many fields.\\n* **Innovation and Creativity:**  Computer science empowers us to create new technologies, solve complex problems, and push the boundaries of what's possible.\\n\\n\\nLet me know if you have any other questions about computer science!\\n\",\n",
              " 'text': \"That's a great explanation of computer science! \\n\\nTo answer your question about industries, here are just *some* of the many fields where computer science knowledge is essential:\\n\\n**Directly Related:**\\n\\n* **Software Development:** Creating applications, websites, and operating systems.\\n* **Data Science:** Analyzing large datasets to extract insights and make predictions.\\n* **Artificial Intelligence (AI) and Machine Learning:** Developing intelligent systems that can learn and adapt.\\n* **Cybersecurity:** Protecting computer systems and data from threats.\\n* **Computer Engineering:** Designing and building computer hardware.\\n\\n**Industries Leveraging Computer Science:**\\n\\n* **Healthcare:**  Developing medical software, analyzing patient data, and advancing medical research.\\n* **Finance:**  Building trading algorithms, managing risk, and providing secure online banking.\\n* **Education:**  Creating online learning platforms, developing educational software, and personalizing learning experiences.\\n* **Manufacturing:**  Automating production processes, optimizing supply chains, and using robots in manufacturing.\\n* **Entertainment:**  Creating video games, special effects, and streaming services.\\n* **Retail:**  Personalizing shopping experiences, managing inventory, and analyzing customer data.\\n* **Transportation:**  Developing self-driving cars, optimizing logistics, and improving traffic flow.\\n\\nThis list is far from exhaustive!  Computer science is a foundational discipline that is transforming nearly every aspect of our lives. \\n\\n\\n\\n\"}"
            ]
          },
          "metadata": {},
          "execution_count": 7
        }
      ]
    },
    {
      "cell_type": "code",
      "source": [
        "from langchain_core.messages import SystemMessage\n",
        "from langchain.chains import LLMChain\n",
        "from langchain.memory import ConversationBufferMemory\n",
        "from langchain_core.prompts import(ChatPromptTemplate,MessagesPlaceholder,HumanMessagePromptTemplate)\n",
        "my_prompt=ChatPromptTemplate.from_messages([\n",
        "    SystemMessage(\"You are human assistant\"),\n",
        "    MessagesPlaceholder(variable_name=\"new_memory\"),\n",
        "    HumanMessagePromptTemplate.from_template(\"{question}\")\n",
        "])\n",
        "Chat_memory=ConversationBufferMemory(memory_key=\"new_memory\",return_messages=True)\n",
        "chain=LLMChain(prompt=my_prompt, llm=llm,memory=Chat_memory,verbose=True)"
      ],
      "metadata": {
        "id": "f5OKEJJe2UzT"
      },
      "execution_count": 12,
      "outputs": []
    },
    {
      "cell_type": "code",
      "source": [
        "new_sample_memory=ConversationBufferMemory(return_messages=True)\n",
        "new_sample_memory.load_memory_variables({})\n",
        "new_sample_memory.chat_memory.add_user_message(\"which country is the largest country\")\n",
        "new_sample_memory.chat_memory.add_ai_message(\"china\")\n",
        "new_sample_memory.load_memory_variables({})"
      ],
      "metadata": {
        "id": "v3TwSayQRu6q",
        "colab": {
          "base_uri": "https://localhost:8080/"
        },
        "outputId": "9b89ea33-d196-48b7-a01d-275133862c4f"
      },
      "execution_count": 23,
      "outputs": [
        {
          "output_type": "execute_result",
          "data": {
            "text/plain": [
              "{'history': [HumanMessage(content='which country is the largest country', additional_kwargs={}, response_metadata={}),\n",
              "  AIMessage(content='china', additional_kwargs={}, response_metadata={})]}"
            ]
          },
          "metadata": {},
          "execution_count": 23
        }
      ]
    },
    {
      "cell_type": "code",
      "source": [
        "chain.invoke({\"question\":\"what is computer science?\"})"
      ],
      "metadata": {
        "colab": {
          "base_uri": "https://localhost:8080/"
        },
        "id": "9yZmTyufLaaK",
        "outputId": "e0c6f9a1-2936-4c3b-d079-419c5bee0467"
      },
      "execution_count": 17,
      "outputs": [
        {
          "output_type": "stream",
          "name": "stdout",
          "text": [
            "\n",
            "\n",
            "\u001b[1m> Entering new LLMChain chain...\u001b[0m\n",
            "Prompt after formatting:\n",
            "\u001b[32;1m\u001b[1;3mSystem: You are human assistant\n",
            "Human: what is computer science?\n",
            "AI: Imagine you want to teach a dog a new trick. You break it down into small steps, use rewards to encourage good behavior, and patiently repeat the process until the dog learns. \n",
            "\n",
            "Computer science is kind of like that, but instead of teaching a dog, we're teaching computers! \n",
            "\n",
            "It's the study of how computers work and how to make them do cool things.  \n",
            "\n",
            "Here are some key things computer scientists do:\n",
            "\n",
            "* **Design algorithms:** These are like recipes for computers, telling them exactly how to solve problems and complete tasks.\n",
            "* **Write code:** This is the language computers understand. Programmers use code to bring algorithms to life and create software applications.\n",
            "* **Build hardware:** This involves designing and creating the physical components of computers, like processors, memory, and storage devices.\n",
            "* **Explore new technologies:** Computer science is constantly evolving, with new breakthroughs happening all the time. Researchers are always pushing the boundaries of what's possible with computers.\n",
            "\n",
            "**In short, computer science is about using logic, creativity, and problem-solving skills to understand and interact with the world through computers.** \n",
            "\n",
            "It's a fascinating field with endless possibilities!\n",
            "\n",
            "Human: what is computer science?\u001b[0m\n",
            "\n",
            "\u001b[1m> Finished chain.\u001b[0m\n"
          ]
        },
        {
          "output_type": "execute_result",
          "data": {
            "text/plain": [
              "{'question': 'what is computer science?',\n",
              " 'new_memory': [HumanMessage(content='what is computer science?', additional_kwargs={}, response_metadata={}),\n",
              "  AIMessage(content=\"Imagine you want to teach a dog a new trick. You break it down into small steps, use rewards to encourage good behavior, and patiently repeat the process until the dog learns. \\n\\nComputer science is kind of like that, but instead of teaching a dog, we're teaching computers! \\n\\nIt's the study of how computers work and how to make them do cool things.  \\n\\nHere are some key things computer scientists do:\\n\\n* **Design algorithms:** These are like recipes for computers, telling them exactly how to solve problems and complete tasks.\\n* **Write code:** This is the language computers understand. Programmers use code to bring algorithms to life and create software applications.\\n* **Build hardware:** This involves designing and creating the physical components of computers, like processors, memory, and storage devices.\\n* **Explore new technologies:** Computer science is constantly evolving, with new breakthroughs happening all the time. Researchers are always pushing the boundaries of what's possible with computers.\\n\\n**In short, computer science is about using logic, creativity, and problem-solving skills to understand and interact with the world through computers.** \\n\\nIt's a fascinating field with endless possibilities!\\n\", additional_kwargs={}, response_metadata={}),\n",
              "  HumanMessage(content='what is computer science?', additional_kwargs={}, response_metadata={}),\n",
              "  AIMessage(content=\"Computer science is the study of computers and computational systems.  \\n\\nThink of it like this:\\n\\n* **Math for computers:**  It uses mathematical concepts to design and analyze algorithms, which are sets of instructions that computers follow to solve problems.\\n* **Building blocks of software:**  It involves understanding how to write code, the language computers understand, to create software applications, websites, and more.\\n* **Understanding hardware:**  It explores the inner workings of computers, from the physical components like processors and memory to how they interact with software.\\n* **Solving problems creatively:**  Computer scientists use their knowledge to tackle real-world problems in fields like medicine, finance, entertainment, and beyond.\\n\\n**Essentially, computer science is about using logic and creativity to make computers do amazing things!** \\n\\n\\nLet me know if you'd like to explore any of these aspects in more detail.\\n\", additional_kwargs={}, response_metadata={})],\n",
              " 'text': \"Computer science is the study of computers and computational systems.  \\n\\nThink of it like this:\\n\\n* **Math for computers:**  It uses mathematical concepts to design and analyze algorithms, which are sets of instructions that computers follow to solve problems.\\n* **Building blocks of software:**  It involves understanding how to write code, the language computers understand, to create software applications, websites, and more.\\n* **Understanding hardware:**  It explores the inner workings of computers, from the physical components like processors and memory to how they interact with software.\\n* **Solving problems creatively:**  Computer scientists use their knowledge to tackle real-world problems in fields like medicine, finance, entertainment, and beyond.\\n\\n**Essentially, computer science is about using logic and creativity to make computers do amazing things!** \\n\\n\\nLet me know if you'd like to explore any of these aspects in more detail.\\n\"}"
            ]
          },
          "metadata": {},
          "execution_count": 17
        }
      ]
    }
  ]
}